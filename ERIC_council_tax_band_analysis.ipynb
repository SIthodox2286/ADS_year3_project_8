{
 "cells": [
  {
   "cell_type": "code",
   "execution_count": 4,
   "id": "e451fda9",
   "metadata": {},
   "outputs": [],
   "source": [
    "import pandas as pd \n",
    "import numpy as np\n",
    "import matplotlib.pyplot as plt\n",
    "import openpyxl"
   ]
  },
  {
   "cell_type": "code",
   "execution_count": 5,
   "id": "ae7a5ad6",
   "metadata": {},
   "outputs": [],
   "source": [
    "from load_data import load_council_tax_data"
   ]
  },
  {
   "cell_type": "code",
   "execution_count": 6,
   "id": "9b9233af",
   "metadata": {},
   "outputs": [],
   "source": [
    "houses_above_0k, houses_above_52k, houses_above_88k, houses_above_160k = load_council_tax_data()"
   ]
  },
  {
   "cell_type": "code",
   "execution_count": 7,
   "id": "0292a0ac",
   "metadata": {},
   "outputs": [
    {
     "name": "stdout",
     "output_type": "stream",
     "text": [
      "             area_names  property_counts\n",
      "0                  Adur             7860\n",
      "1             Allerdale            30070\n",
      "2          Amber Valley            35060\n",
      "3                  Arun            20800\n",
      "4              Ashfield            41400\n",
      "5               Ashford            17740\n",
      "6               Babergh            16980\n",
      "7  Barking and Dagenham            18060\n",
      "8                Barnet            13970\n",
      "             area_names  property_counts\n",
      "0                  Adur            17650\n",
      "1             Allerdale            12940\n",
      "2          Amber Valley            17000\n",
      "3                  Arun            36070\n",
      "4              Ashfield            13060\n",
      "5               Ashford            22740\n",
      "6               Babergh            16050\n",
      "7  Barking and Dagenham            56730\n",
      "8                Barnet            67760\n",
      "             area_names  property_counts\n",
      "0                  Adur             2730\n",
      "1             Allerdale             4180\n",
      "2          Amber Valley             5130\n",
      "3                  Arun            16460\n",
      "4              Ashfield             1970\n",
      "5               Ashford            12420\n",
      "6               Babergh             6930\n",
      "7  Barking and Dagenham             2120\n",
      "8                Barnet            52600\n",
      "             area_names  property_counts\n",
      "0                  Adur              320\n",
      "1             Allerdale              480\n",
      "2          Amber Valley             1570\n",
      "3                  Arun             2990\n",
      "4              Ashfield              150\n",
      "5               Ashford             3530\n",
      "6               Babergh             1890\n",
      "7  Barking and Dagenham               60\n",
      "8                Barnet            20680\n"
     ]
    }
   ],
   "source": [
    "print(houses_above_0k.head(9))\n",
    "print(houses_above_52k.head(9))\n",
    "print(houses_above_88k.head(9))\n",
    "print(houses_above_160k.head(9))"
   ]
  }
 ],
 "metadata": {
  "kernelspec": {
   "display_name": "Python 3",
   "language": "python",
   "name": "python3"
  },
  "language_info": {
   "codemirror_mode": {
    "name": "ipython",
    "version": 3
   },
   "file_extension": ".py",
   "mimetype": "text/x-python",
   "name": "python",
   "nbconvert_exporter": "python",
   "pygments_lexer": "ipython3",
   "version": "3.8.8"
  }
 },
 "nbformat": 4,
 "nbformat_minor": 5
}
