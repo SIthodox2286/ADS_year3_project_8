{
 "cells": [
  {
   "cell_type": "code",
   "execution_count": 1,
   "metadata": {},
   "outputs": [],
   "source": [
    "import pandas as pd \n",
    "import numpy as np\n",
    "import matplotlib.pyplot as plt\n",
    "import sklearn as skl\n",
    "from sklearn.model_selection import train_test_split, GridSearchCV\n",
    "from load_data import load_categorical_data\n",
    "from load_data import load_categorical_more_data\n",
    "from sklearn.ensemble import RandomForestClassifier\n",
    "from sklearn.datasets import make_classification\n",
    "from sklearn.metrics import r2_score, accuracy_score\n",
    "from scipy.stats import ttest_ind as ttest\n",
    "from sklearn.metrics import mean_squared_error\n",
    "from sklearn.preprocessing import StandardScaler\n",
    "\n",
    "from sklearn.feature_selection import SelectKBest, chi2, SelectFromModel\n",
    "import time\n",
    "import seaborn as sns\n",
    "from xgboost import XGBRegressor\n"
   ]
  },
  {
   "cell_type": "code",
   "execution_count": 2,
   "metadata": {},
   "outputs": [],
   "source": [
    "import openpyxl \n",
    "import os"
   ]
  },
  {
   "cell_type": "code",
   "execution_count": 3,
   "metadata": {},
   "outputs": [],
   "source": [
    "def MinMaxNormal(df):\n",
    "    normalized_df=(df-df.min())/(df.max()-df.min())\n",
    "    return normalized_df"
   ]
  },
  {
   "cell_type": "code",
   "execution_count": 4,
   "metadata": {},
   "outputs": [],
   "source": [
    "def mean_absolute_percentage_error(y_true, y_pred): \n",
    "    y_true=np.array(y_true)\n",
    "    y_pred=np.array(y_pred)\n",
    "    MSPE = (sum((MinMaxNormal(y_true)-MinMaxNormal(y_pred))**2)/(y_pred.size))/(MinMaxNormal(y_true).mean())\n",
    "    MSPE = MSPE*100\n",
    "    return np.abs(MSPE)"
   ]
  },
  {
   "cell_type": "code",
   "execution_count": 5,
   "metadata": {},
   "outputs": [],
   "source": [
    "\"\"\"\n",
    "Use Decision Tree to fit the relationship between \n",
    "homeless_real_value and other variables, except \n",
    "no_longer_homeless, prevention_duty, and relief duty.\n",
    "\"\"\"\n",
    "\n",
    "#Read data\n",
    "categorical_data,local_authority_names,total_duty_owed,total_population_in_households,prevention_duty_owed,relief_duty_owed,support_need_homeless,no_longer_homeless,homeless_real_value,categorical_waiting_list_size,social_housing_lettings_2021,band_A_B_properties,band_C_D_properties,band_E_F_properties,band_G_H_properties,median_prices,median_earning_gross,categorical_median_afforability_ratio,lower_quatile_prices,lower_quatile_earning_gross,categorical_lower_quatile_afforability_ratio = load_categorical_data()\n",
    "\n",
    "affordableRent_start,social_housing_start,intermediate_start,total_affordable_start,affordable_complete,social_complete,intermediate_complete,total_affordable_complete=load_categorical_more_data()"
   ]
  },
  {
   "cell_type": "code",
   "execution_count": 6,
   "metadata": {},
   "outputs": [],
   "source": [
    "data_table = categorical_data.drop(labels='Local',axis = 1)\n",
    "data_table = data_table.drop(labels='Local Authority code',axis = 1)\n",
    "data_table = data_table.drop(labels='Local Authority name',axis = 1)\n",
    "data_table = data_table.drop(labels='Homeless (including intentionally homeless)',axis = 1)\n",
    "data_table = data_table.drop(labels='Threatened with homelessness within 56 days - Prevention duty owed',axis = 1)\n",
    "data_table = data_table.drop(labels='Homeless - Relief duty owed4',axis = 1)\n",
    "data_table = data_table.drop(labels='Intermediate Rent (Starts on Site)',axis = 1)\n",
    "data_table = data_table.drop(labels='Intermediate Rent (Completions)',axis = 1)\n",
    "data_table = data_table.drop(labels='Affordable Home Ownership (Starts on Site)',axis = 1)\n",
    "data_table = data_table.drop(labels='Affordable Home Ownership (Completions)',axis = 1)\n",
    "data_table = data_table.drop(labels='Market (Starts on Site)',axis = 1)\n",
    "data_table = data_table.drop(labels='Market  (Completions)',axis = 1)\n",
    "data_table = data_table.drop(labels='C_D_property_counts',axis = 1)\n",
    "data_table = data_table.drop(labels='E_F_property_counts',axis = 1)\n",
    "data_table = data_table.drop(labels='G_H_property_counts',axis = 1)\n",
    "data_table = data_table.drop(labels='median_houses_2020',axis = 1)\n",
    "data_table = data_table.drop(labels='median_earning_2020',axis = 1)\n",
    "data_table = data_table.drop(labels='ratio_by_medians_2020',axis = 1)\n",
    "data_table = data_table.drop(labels='Total Affordable (Starts on Site)',axis = 1)\n",
    "data_table = data_table.drop(labels='Total Affordable (Completions)',axis = 1)\n",
    "data_table = data_table.drop(labels='Total (Starts on Site)',axis = 1)\n",
    "data_table = data_table.drop(labels='Total (Completions)',axis = 1)\n",
    "data_table = data_table.drop(labels='lower_quatile_houses_2020',axis = 1)\n",
    "data_table = data_table.drop(labels='lower_quatile_earning_2020',axis = 1)"
   ]
  },
  {
   "cell_type": "code",
   "execution_count": 7,
   "metadata": {},
   "outputs": [
    {
     "data": {
      "text/plain": [
       "Index(['Total owed a prevention or relief duty',\n",
       "       'Number of households in area4 (000s)',\n",
       "       'Total households with support needs', 'Total secured accommodation',\n",
       "       'Size_of_social_housing_waiting_list_2021', '2021 Total Lettings',\n",
       "       'Affordable Rent (Starts on Site)', 'Social Rent (Starts on Site)',\n",
       "       'Affordable Rent (Completions)', 'Social Rent (Completions)',\n",
       "       'A_B_property_counts', 'ratio_by_lower_quatile_2020'],\n",
       "      dtype='object')"
      ]
     },
     "execution_count": 7,
     "metadata": {},
     "output_type": "execute_result"
    }
   ],
   "source": [
    "data_table.columns"
   ]
  },
  {
   "cell_type": "code",
   "execution_count": 8,
   "metadata": {},
   "outputs": [],
   "source": [
    "# feature_space = data_table.iloc[:, data_table.columns != 'Total owed a prevention or relief duty'].astype('float')\n",
    "# feature_class = data_table.iloc[:, data_table.columns == 'Total owed a prevention or relief duty'].astype('int')"
   ]
  },
  {
   "cell_type": "code",
   "execution_count": 9,
   "metadata": {},
   "outputs": [
    {
     "data": {
      "text/html": [
       "<div>\n",
       "<style scoped>\n",
       "    .dataframe tbody tr th:only-of-type {\n",
       "        vertical-align: middle;\n",
       "    }\n",
       "\n",
       "    .dataframe tbody tr th {\n",
       "        vertical-align: top;\n",
       "    }\n",
       "\n",
       "    .dataframe thead th {\n",
       "        text-align: right;\n",
       "    }\n",
       "</style>\n",
       "<table border=\"1\" class=\"dataframe\">\n",
       "  <thead>\n",
       "    <tr style=\"text-align: right;\">\n",
       "      <th></th>\n",
       "      <th>Total owed a prevention or relief duty</th>\n",
       "      <th>Number of households in area4 (000s)</th>\n",
       "      <th>Total households with support needs</th>\n",
       "      <th>Total secured accommodation</th>\n",
       "      <th>Size_of_social_housing_waiting_list_2021</th>\n",
       "      <th>2021 Total Lettings</th>\n",
       "      <th>Affordable Rent (Starts on Site)</th>\n",
       "      <th>Social Rent (Starts on Site)</th>\n",
       "      <th>Affordable Rent (Completions)</th>\n",
       "      <th>Social Rent (Completions)</th>\n",
       "      <th>A_B_property_counts</th>\n",
       "      <th>ratio_by_lower_quatile_2020</th>\n",
       "    </tr>\n",
       "  </thead>\n",
       "  <tbody>\n",
       "    <tr>\n",
       "      <th>1</th>\n",
       "      <td>139</td>\n",
       "      <td>28.205</td>\n",
       "      <td>90</td>\n",
       "      <td>0</td>\n",
       "      <td>741</td>\n",
       "      <td>11</td>\n",
       "      <td>0</td>\n",
       "      <td>32</td>\n",
       "      <td>0</td>\n",
       "      <td>0</td>\n",
       "      <td>7860</td>\n",
       "      <td>10.96</td>\n",
       "    </tr>\n",
       "    <tr>\n",
       "      <th>2</th>\n",
       "      <td>507</td>\n",
       "      <td>50.05</td>\n",
       "      <td>377</td>\n",
       "      <td>200</td>\n",
       "      <td>3710</td>\n",
       "      <td>96</td>\n",
       "      <td>70</td>\n",
       "      <td>0</td>\n",
       "      <td>98</td>\n",
       "      <td>0</td>\n",
       "      <td>24030</td>\n",
       "      <td>5.97</td>\n",
       "    </tr>\n",
       "    <tr>\n",
       "      <th>3</th>\n",
       "      <td>99</td>\n",
       "      <td>38.3</td>\n",
       "      <td>42</td>\n",
       "      <td>37</td>\n",
       "      <td>1468</td>\n",
       "      <td>71</td>\n",
       "      <td>107</td>\n",
       "      <td>9</td>\n",
       "      <td>43</td>\n",
       "      <td>0</td>\n",
       "      <td>2990</td>\n",
       "      <td>11.68</td>\n",
       "    </tr>\n",
       "    <tr>\n",
       "      <th>4</th>\n",
       "      <td>121</td>\n",
       "      <td>24.223</td>\n",
       "      <td>107</td>\n",
       "      <td>52</td>\n",
       "      <td>1010</td>\n",
       "      <td>96</td>\n",
       "      <td>25</td>\n",
       "      <td>0</td>\n",
       "      <td>0</td>\n",
       "      <td>0</td>\n",
       "      <td>11710</td>\n",
       "      <td>6.79</td>\n",
       "    </tr>\n",
       "    <tr>\n",
       "      <th>5</th>\n",
       "      <td>731</td>\n",
       "      <td>81.651</td>\n",
       "      <td>325</td>\n",
       "      <td>36</td>\n",
       "      <td>1226</td>\n",
       "      <td>290</td>\n",
       "      <td>46</td>\n",
       "      <td>0</td>\n",
       "      <td>11</td>\n",
       "      <td>0</td>\n",
       "      <td>48950</td>\n",
       "      <td>5.72</td>\n",
       "    </tr>\n",
       "  </tbody>\n",
       "</table>\n",
       "</div>"
      ],
      "text/plain": [
       "  Total owed a prevention or relief duty Number of households in area4 (000s)  \\\n",
       "1                                    139                               28.205   \n",
       "2                                    507                                50.05   \n",
       "3                                     99                                 38.3   \n",
       "4                                    121                               24.223   \n",
       "5                                    731                               81.651   \n",
       "\n",
       "  Total households with support needs Total secured accommodation  \\\n",
       "1                                  90                           0   \n",
       "2                                 377                         200   \n",
       "3                                  42                          37   \n",
       "4                                 107                          52   \n",
       "5                                 325                          36   \n",
       "\n",
       "  Size_of_social_housing_waiting_list_2021 2021 Total Lettings  \\\n",
       "1                                      741                  11   \n",
       "2                                     3710                  96   \n",
       "3                                     1468                  71   \n",
       "4                                     1010                  96   \n",
       "5                                     1226                 290   \n",
       "\n",
       "  Affordable Rent (Starts on Site) Social Rent (Starts on Site)  \\\n",
       "1                                0                           32   \n",
       "2                               70                            0   \n",
       "3                              107                            9   \n",
       "4                               25                            0   \n",
       "5                               46                            0   \n",
       "\n",
       "  Affordable Rent (Completions) Social Rent (Completions) A_B_property_counts  \\\n",
       "1                             0                         0                7860   \n",
       "2                            98                         0               24030   \n",
       "3                            43                         0                2990   \n",
       "4                             0                         0               11710   \n",
       "5                            11                         0               48950   \n",
       "\n",
       "  ratio_by_lower_quatile_2020  \n",
       "1                       10.96  \n",
       "2                        5.97  \n",
       "3                       11.68  \n",
       "4                        6.79  \n",
       "5                        5.72  "
      ]
     },
     "execution_count": 9,
     "metadata": {},
     "output_type": "execute_result"
    }
   ],
   "source": [
    "data_table.head(5)"
   ]
  },
  {
   "cell_type": "code",
   "execution_count": 10,
   "metadata": {},
   "outputs": [
    {
     "data": {
      "text/plain": [
       "Index(['Number of households in area4 (000s)',\n",
       "       'Total households with support needs', 'Total secured accommodation',\n",
       "       'Size_of_social_housing_waiting_list_2021', '2021 Total Lettings',\n",
       "       'Affordable Rent (Starts on Site)', 'Social Rent (Starts on Site)',\n",
       "       'Affordable Rent (Completions)', 'Social Rent (Completions)',\n",
       "       'A_B_property_counts', 'ratio_by_lower_quatile_2020'],\n",
       "      dtype='object')"
      ]
     },
     "execution_count": 10,
     "metadata": {},
     "output_type": "execute_result"
    }
   ],
   "source": [
    "feature_space.columns"
   ]
  },
  {
   "cell_type": "code",
   "execution_count": null,
   "metadata": {},
   "outputs": [],
   "source": [
    "# sns.pairplot(data_table)"
   ]
  },
  {
   "cell_type": "code",
   "execution_count": null,
   "metadata": {},
   "outputs": [],
   "source": [
    "# SelectKBest(chi2, k=8).fit_transform(feature_space, feature_class)"
   ]
  },
  {
   "cell_type": "code",
   "execution_count": null,
   "metadata": {},
   "outputs": [],
   "source": [
    "\n",
    "# data_scaled = StandardScaler().fit_transform(data_table.values)\n",
    "# data_scaled_df = pd.DataFrame(data_scaled, index=data_table.index, columns=data_table.columns)\n"
   ]
  },
  {
   "cell_type": "code",
   "execution_count": 12,
   "metadata": {},
   "outputs": [],
   "source": [
    "X = data_table.iloc[:, data_table.columns != 'Total owed a prevention or relief duty'].astype('float')\n",
    "y = data_table.iloc[:, data_table.columns == 'Total owed a prevention or relief duty'].astype('int')"
   ]
  },
  {
   "cell_type": "code",
   "execution_count": 13,
   "metadata": {},
   "outputs": [],
   "source": [
    "X_train, X_test, y_train, y_test = train_test_split(X, y, test_size = 0.20, random_state = 0)"
   ]
  },
  {
   "cell_type": "code",
   "execution_count": 14,
   "metadata": {
    "scrolled": true
   },
   "outputs": [
    {
     "name": "stdout",
     "output_type": "stream",
     "text": [
      "Accuracy: 0.9132499197250196\n"
     ]
    }
   ],
   "source": [
    "xgb_model = XGBRegressor().fit(X_train, y_train)\n",
    "\n",
    "y_pred = xgb_model.predict(X_test)\n",
    "accuracy = r2_score(y_test, y_pred)\n",
    "print(\"Accuracy:\", accuracy)"
   ]
  },
  {
   "cell_type": "code",
   "execution_count": 15,
   "metadata": {},
   "outputs": [
    {
     "name": "stdout",
     "output_type": "stream",
     "text": [
      "[0.00192725 0.00406726 0.00423671 0.00614568 0.02205451 0.02626085\n",
      " 0.03680804 0.05616111 0.08307554 0.229623   0.52964   ]\n"
     ]
    }
   ],
   "source": [
    "thresholds = np.sort(xgb_model.feature_importances_)\n",
    "print(thresholds)"
   ]
  },
  {
   "cell_type": "code",
   "execution_count": 16,
   "metadata": {},
   "outputs": [
    {
     "data": {
      "image/png": "[encoded data removed]",
      "text/plain": [
       "<Figure size 576x576 with 1 Axes>"
      ]
     },
     "metadata": {
      "needs_background": "light"
     },
     "output_type": "display_data"
    }
   ],
   "source": [
    "importances_values = xgb_model.feature_importances_\n",
    "importances = pd.DataFrame(importances_values, columns=[\"importance\"])\n",
    "feature_data = pd.DataFrame(X_train.columns, columns=[\"feature\"])\n",
    "importance = pd.concat([feature_data, importances], axis=1)\n",
    "\n",
    "importance = importance.sort_values([\"importance\"], ascending=True)\n",
    "importance[\"importance\"] = (importance[\"importance\"] * 1000).astype(int)\n",
    "importance = importance.sort_values([\"importance\"])\n",
    "importance.set_index('feature', inplace=True)\n",
    "importance.plot.barh(color='b', rot=0, figsize=(8, 8))\n",
    "plt.legend(loc=\"lower right\")\n",
    "plt.show()"
   ]
  },
  {
   "cell_type": "code",
   "execution_count": null,
   "metadata": {},
   "outputs": [],
   "source": []
  }
 ],
 "metadata": {
  "kernelspec": {
   "display_name": "Python 3",
   "language": "python",
   "name": "python3"
  },
  "language_info": {
   "codemirror_mode": {
    "name": "ipython",
    "version": 3
   },
   "file_extension": ".py",
   "mimetype": "text/x-python",
   "name": "python",
   "nbconvert_exporter": "python",
   "pygments_lexer": "ipython3",
   "version": "3.8.5"
  }
 },
 "nbformat": 4,
 "nbformat_minor": 5
}
