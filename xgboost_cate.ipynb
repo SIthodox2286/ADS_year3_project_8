{
 "cells": [
  {
   "cell_type": "code",
   "execution_count": 4,
   "id": "ce5cb3af",
   "metadata": {},
   "outputs": [],
   "source": [
    "import pandas as pd \n",
    "import numpy as np\n",
    "import matplotlib.pyplot as plt\n",
    "import sklearn as skl\n",
    "from sklearn.model_selection import train_test_split, GridSearchCV\n",
    "from load_data import load_categorical_data\n",
    "#from load_data import load_categorical_more_data\n",
    "from sklearn.ensemble import RandomForestClassifier\n",
    "from sklearn.datasets import make_classification\n",
    "from sklearn.metrics import r2_score, accuracy_score\n",
    "from scipy.stats import ttest_ind as ttest\n",
    "from sklearn.metrics import mean_squared_error\n",
    "from sklearn.preprocessing import StandardScaler\n",
    "\n",
    "from sklearn.feature_selection import SelectKBest, chi2, SelectFromModel\n",
    "import time\n",
    "import seaborn as sns\n",
    "from xgboost import XGBRegressor\n"
   ]
  },
  {
   "cell_type": "code",
   "execution_count": 5,
   "id": "524a3a86",
   "metadata": {},
   "outputs": [],
   "source": [
    "import openpyxl \n",
    "import os"
   ]
  },
  {
   "cell_type": "code",
   "execution_count": 6,
   "id": "c4f784dd",
   "metadata": {},
   "outputs": [],
   "source": [
    "def MinMaxNormal(df):\n",
    "    normalized_df=(df-df.min())/(df.max()-df.min())\n",
    "    return normalized_df"
   ]
  },
  {
   "cell_type": "code",
   "execution_count": 7,
   "id": "f6339656",
   "metadata": {},
   "outputs": [],
   "source": [
    "def mean_absolute_percentage_error(y_true, y_pred): \n",
    "    y_true=np.array(y_true)\n",
    "    y_pred=np.array(y_pred)\n",
    "    MSPE = (sum((MinMaxNormal(y_true)-MinMaxNormal(y_pred))**2)/(y_pred.size))/(MinMaxNormal(y_true).mean())\n",
    "    MSPE = MSPE*100\n",
    "    return np.abs(MSPE)"
   ]
  },
  {
   "cell_type": "code",
   "execution_count": 8,
   "id": "090f3ca9",
   "metadata": {},
   "outputs": [],
   "source": [
    "\"\"\"\n",
    "Use Decision Tree to fit the relationship between \n",
    "homeless_real_value and other variables, except \n",
    "no_longer_homeless, prevention_duty, and relief duty.\n",
    "\"\"\"\n",
    "\n",
    "#Read data\n",
    "categorical_data,local_authority_names,total_duty_owed,total_population_in_households,prevention_duty_owed,relief_duty_owed,support_need_homeless,no_longer_homeless,homeless_real_value,categorical_waiting_list_size,social_housing_lettings_2021,band_A_B_properties,band_C_D_properties,band_E_F_properties,band_G_H_properties,median_prices,median_earning_gross,categorical_median_afforability_ratio,lower_quatile_prices,lower_quatile_earning_gross,categorical_lower_quatile_afforability_ratio = load_categorical_data()\n",
    "\n",
    "#affordableRent_start,social_housing_start,intermediate_start,total_affordable_start,affordable_complete,social_complete,intermediate_complete,total_affordable_complete=load_categorical_more_data()"
   ]
  },
  {
   "cell_type": "code",
   "execution_count": 59,
   "id": "d7b4795c",
   "metadata": {},
   "outputs": [],
   "source": [
    "data_table=categorical_data.drop(labels='Local',axis=1)\n",
    "data_table=data_table.drop(labels='Local_Authority_code',axis=1)\n",
    "data_table=data_table.drop(labels='Local_Authority_name',axis=1)\n",
    "#data_table=data_table.drop(labels='Homeless_(including_intentionally_homeless)',axis=1)\n",
    "data_table=data_table.drop(labels='Threatened_with_homelessness_within_56_days_Prevention_duty_owed',axis=1)\n",
    "data_table=data_table.drop(labels='Homeless_Relief_duty_owed4',axis=1)\n",
    "data_table=data_table.drop(labels='Total_households_with_support_needs',axis=1)\n",
    "#data_table=data_table.drop(labels='Intermediate_Rent_(Starts_on_Site)',axis=1)\n",
    "#data_table=data_table.drop(labels='Intermediate_Rent(Completions)',axis=1)\n",
    "#data_table=data_table.drop(labels='Affordable_Home_Ownership(Starts_on_Site)',axis=1)\n",
    "#data_table=data_table.drop(labels='Affordable_Home_Ownership(Completions)',axis=1)\n",
    "#data_table=data_table.drop(labels='Market(Starts_on_Site)',axis=1)\n",
    "#data_table=data_table.drop(labels='Market(Completions)',axis=1)\n",
    "#data_table=data_table.drop(labels='C_D_property_counts',axis=1)\n",
    "#data_table=data_table.drop(labels='E_F_property_counts',axis=1)\n",
    "#data_table=data_table.drop(labels='G_H_property_counts',axis=1)\n",
    "#data_table=data_table.drop(labels='median_houses_2020',axis=1)\n",
    "#data_table=data_table.drop(labels='median_earning_2020',axis=1)\n",
    "#data_table=data_table.drop(labels='ratio_by_medians_2020',axis=1)\n",
    "#data_table=data_table.drop(labels='Total_Affordable(Starts_on_Site)',axis=1)\n",
    "#data_table=data_table.drop(labels='Total_Affordable(Completions)',axis=1)\n",
    "#data_table=data_table.drop(labels='Total(Starts_on_Site)',axis=1)\n",
    "#data_table=data_table.drop(labels='Total(Completions)',axis=1)\n",
    "#data_table=data_table.drop(labels='lower_quatile_houses_2020',axis=1)\n",
    "#data_table=data_table.drop(labels='lower_quatile_earning_2020',axis=1)"
   ]
  },
  {
   "cell_type": "code",
   "execution_count": 60,
   "id": "25ebd4d8",
   "metadata": {},
   "outputs": [
    {
     "data": {
      "text/plain": [
       "Index(['Total_owed_a_prevention_or_relief_duty',\n",
       "       'Number_of_households_in_area4(000s)', 'Total_secured_accommodation',\n",
       "       'Homeless_(including_intentionally_homeless)',\n",
       "       'Size_of_social_housing_waiting_list_2021', '2021_Total_Lettings',\n",
       "       'Affordable_Rent(Starts_on_Site)', 'Social_Rent_(Starts_on_Site)',\n",
       "       'Intermediate_Rent_(Starts_on_Site)',\n",
       "       'Affordable_Home_Ownership(Starts_on_Site)',\n",
       "       'Total_Affordable(Starts_on_Site)', 'Affordable_Rent(Completions)',\n",
       "       'Social_Rent(Completions)', 'Intermediate_Rent(Completions)',\n",
       "       'Affordable_Home_Ownership(Completions)',\n",
       "       'Total_Affordable(Completions)', 'Total(Starts_on_Site)',\n",
       "       'Total(Completions)', 'Market(Starts_on_Site)', 'Market(Completions)',\n",
       "       'A_B_property_counts', 'C_D_property_counts', 'E_F_property_counts',\n",
       "       'G_H_property_counts', 'median_houses_2020', 'median_earning_2020',\n",
       "       'ratio_by_medians_2020', 'lower_quatile_houses_2020',\n",
       "       'lower_quatile_earning_2020', 'ratio_by_lower_quatile_2020'],\n",
       "      dtype='object')"
      ]
     },
     "execution_count": 60,
     "metadata": {},
     "output_type": "execute_result"
    }
   ],
   "source": [
    "data_table.columns"
   ]
  },
  {
   "cell_type": "code",
   "execution_count": 61,
   "id": "d164ab8b",
   "metadata": {},
   "outputs": [],
   "source": [
    "feature_space = data_table.iloc[:, data_table.columns != 'Total_owed_a_prevention_or_relief_duty'].astype('float')\n",
    "feature_class = data_table.iloc[:, data_table.columns == 'Total_owed_a_prevention_or_relief_duty'].astype('int')"
   ]
  },
  {
   "cell_type": "code",
   "execution_count": 62,
   "id": "a71d3ee5",
   "metadata": {},
   "outputs": [
    {
     "data": {
      "text/html": [
       "<div>\n",
       "<style scoped>\n",
       "    .dataframe tbody tr th:only-of-type {\n",
       "        vertical-align: middle;\n",
       "    }\n",
       "\n",
       "    .dataframe tbody tr th {\n",
       "        vertical-align: top;\n",
       "    }\n",
       "\n",
       "    .dataframe thead th {\n",
       "        text-align: right;\n",
       "    }\n",
       "</style>\n",
       "<table border=\"1\" class=\"dataframe\">\n",
       "  <thead>\n",
       "    <tr style=\"text-align: right;\">\n",
       "      <th></th>\n",
       "      <th>Total_owed_a_prevention_or_relief_duty</th>\n",
       "      <th>Number_of_households_in_area4(000s)</th>\n",
       "      <th>Total_secured_accommodation</th>\n",
       "      <th>Homeless_(including_intentionally_homeless)</th>\n",
       "      <th>Size_of_social_housing_waiting_list_2021</th>\n",
       "      <th>2021_Total_Lettings</th>\n",
       "      <th>Affordable_Rent(Starts_on_Site)</th>\n",
       "      <th>Social_Rent_(Starts_on_Site)</th>\n",
       "      <th>Intermediate_Rent_(Starts_on_Site)</th>\n",
       "      <th>Affordable_Home_Ownership(Starts_on_Site)</th>\n",
       "      <th>...</th>\n",
       "      <th>A_B_property_counts</th>\n",
       "      <th>C_D_property_counts</th>\n",
       "      <th>E_F_property_counts</th>\n",
       "      <th>G_H_property_counts</th>\n",
       "      <th>median_houses_2020</th>\n",
       "      <th>median_earning_2020</th>\n",
       "      <th>ratio_by_medians_2020</th>\n",
       "      <th>lower_quatile_houses_2020</th>\n",
       "      <th>lower_quatile_earning_2020</th>\n",
       "      <th>ratio_by_lower_quatile_2020</th>\n",
       "    </tr>\n",
       "  </thead>\n",
       "  <tbody>\n",
       "    <tr>\n",
       "      <th>1</th>\n",
       "      <td>986</td>\n",
       "      <td>57.078</td>\n",
       "      <td>278</td>\n",
       "      <td>25</td>\n",
       "      <td>4884</td>\n",
       "      <td>548</td>\n",
       "      <td>37</td>\n",
       "      <td>0</td>\n",
       "      <td>0</td>\n",
       "      <td>12</td>\n",
       "      <td>...</td>\n",
       "      <td>44130</td>\n",
       "      <td>16370</td>\n",
       "      <td>3490</td>\n",
       "      <td>590</td>\n",
       "      <td>134000</td>\n",
       "      <td>25849</td>\n",
       "      <td>5.18</td>\n",
       "      <td>84995</td>\n",
       "      <td>20670</td>\n",
       "      <td>4.11</td>\n",
       "    </tr>\n",
       "    <tr>\n",
       "      <th>2</th>\n",
       "      <td>522</td>\n",
       "      <td>62.919</td>\n",
       "      <td>138</td>\n",
       "      <td>7</td>\n",
       "      <td>2926</td>\n",
       "      <td>491</td>\n",
       "      <td>47</td>\n",
       "      <td>0</td>\n",
       "      <td>0</td>\n",
       "      <td>3</td>\n",
       "      <td>...</td>\n",
       "      <td>40330</td>\n",
       "      <td>20130</td>\n",
       "      <td>4420</td>\n",
       "      <td>430</td>\n",
       "      <td>132500</td>\n",
       "      <td>26912</td>\n",
       "      <td>4.92</td>\n",
       "      <td>94995</td>\n",
       "      <td>20424</td>\n",
       "      <td>4.65</td>\n",
       "    </tr>\n",
       "    <tr>\n",
       "      <th>3</th>\n",
       "      <td>2199</td>\n",
       "      <td>82.989</td>\n",
       "      <td>1044</td>\n",
       "      <td>25</td>\n",
       "      <td>4653</td>\n",
       "      <td>551</td>\n",
       "      <td>13</td>\n",
       "      <td>0</td>\n",
       "      <td>0</td>\n",
       "      <td>41</td>\n",
       "      <td>...</td>\n",
       "      <td>52290</td>\n",
       "      <td>26150</td>\n",
       "      <td>8740</td>\n",
       "      <td>1530</td>\n",
       "      <td>148000</td>\n",
       "      <td>29495</td>\n",
       "      <td>5.02</td>\n",
       "      <td>106400</td>\n",
       "      <td>21755</td>\n",
       "      <td>4.89</td>\n",
       "    </tr>\n",
       "    <tr>\n",
       "      <th>4</th>\n",
       "      <td>711</td>\n",
       "      <td>48.31</td>\n",
       "      <td>139</td>\n",
       "      <td>18</td>\n",
       "      <td>1415</td>\n",
       "      <td>313</td>\n",
       "      <td>36</td>\n",
       "      <td>0</td>\n",
       "      <td>0</td>\n",
       "      <td>27</td>\n",
       "      <td>...</td>\n",
       "      <td>33820</td>\n",
       "      <td>13020</td>\n",
       "      <td>4520</td>\n",
       "      <td>650</td>\n",
       "      <td>144950</td>\n",
       "      <td>27087</td>\n",
       "      <td>5.35</td>\n",
       "      <td>99950</td>\n",
       "      <td>19383</td>\n",
       "      <td>5.16</td>\n",
       "    </tr>\n",
       "    <tr>\n",
       "      <th>5</th>\n",
       "      <td>1796</td>\n",
       "      <td>91.296</td>\n",
       "      <td>459</td>\n",
       "      <td>87</td>\n",
       "      <td>4893</td>\n",
       "      <td>304</td>\n",
       "      <td>102</td>\n",
       "      <td>2</td>\n",
       "      <td>49</td>\n",
       "      <td>69</td>\n",
       "      <td>...</td>\n",
       "      <td>47670</td>\n",
       "      <td>31330</td>\n",
       "      <td>12100</td>\n",
       "      <td>2880</td>\n",
       "      <td>195000</td>\n",
       "      <td>29986</td>\n",
       "      <td>6.5</td>\n",
       "      <td>137000</td>\n",
       "      <td>20503</td>\n",
       "      <td>6.68</td>\n",
       "    </tr>\n",
       "  </tbody>\n",
       "</table>\n",
       "<p>5 rows × 30 columns</p>\n",
       "</div>"
      ],
      "text/plain": [
       "  Total_owed_a_prevention_or_relief_duty Number_of_households_in_area4(000s)  \\\n",
       "1                                    986                              57.078   \n",
       "2                                    522                              62.919   \n",
       "3                                   2199                              82.989   \n",
       "4                                    711                               48.31   \n",
       "5                                   1796                              91.296   \n",
       "\n",
       "  Total_secured_accommodation Homeless_(including_intentionally_homeless)  \\\n",
       "1                         278                                          25   \n",
       "2                         138                                           7   \n",
       "3                        1044                                          25   \n",
       "4                         139                                          18   \n",
       "5                         459                                          87   \n",
       "\n",
       "  Size_of_social_housing_waiting_list_2021 2021_Total_Lettings  \\\n",
       "1                                     4884                 548   \n",
       "2                                     2926                 491   \n",
       "3                                     4653                 551   \n",
       "4                                     1415                 313   \n",
       "5                                     4893                 304   \n",
       "\n",
       "  Affordable_Rent(Starts_on_Site) Social_Rent_(Starts_on_Site)  \\\n",
       "1                              37                            0   \n",
       "2                              47                            0   \n",
       "3                              13                            0   \n",
       "4                              36                            0   \n",
       "5                             102                            2   \n",
       "\n",
       "  Intermediate_Rent_(Starts_on_Site)  \\\n",
       "1                                  0   \n",
       "2                                  0   \n",
       "3                                  0   \n",
       "4                                  0   \n",
       "5                                 49   \n",
       "\n",
       "  Affordable_Home_Ownership(Starts_on_Site)  ... A_B_property_counts  \\\n",
       "1                                        12  ...               44130   \n",
       "2                                         3  ...               40330   \n",
       "3                                        41  ...               52290   \n",
       "4                                        27  ...               33820   \n",
       "5                                        69  ...               47670   \n",
       "\n",
       "  C_D_property_counts E_F_property_counts G_H_property_counts  \\\n",
       "1               16370                3490                 590   \n",
       "2               20130                4420                 430   \n",
       "3               26150                8740                1530   \n",
       "4               13020                4520                 650   \n",
       "5               31330               12100                2880   \n",
       "\n",
       "  median_houses_2020 median_earning_2020 ratio_by_medians_2020  \\\n",
       "1             134000               25849                  5.18   \n",
       "2             132500               26912                  4.92   \n",
       "3             148000               29495                  5.02   \n",
       "4             144950               27087                  5.35   \n",
       "5             195000               29986                   6.5   \n",
       "\n",
       "  lower_quatile_houses_2020 lower_quatile_earning_2020  \\\n",
       "1                     84995                      20670   \n",
       "2                     94995                      20424   \n",
       "3                    106400                      21755   \n",
       "4                     99950                      19383   \n",
       "5                    137000                      20503   \n",
       "\n",
       "  ratio_by_lower_quatile_2020  \n",
       "1                        4.11  \n",
       "2                        4.65  \n",
       "3                        4.89  \n",
       "4                        5.16  \n",
       "5                        6.68  \n",
       "\n",
       "[5 rows x 30 columns]"
      ]
     },
     "execution_count": 62,
     "metadata": {},
     "output_type": "execute_result"
    }
   ],
   "source": [
    "data_table.head(5)"
   ]
  },
  {
   "cell_type": "code",
   "execution_count": 63,
   "id": "c61f2053",
   "metadata": {},
   "outputs": [
    {
     "data": {
      "text/plain": [
       "Index(['Number_of_households_in_area4(000s)', 'Total_secured_accommodation',\n",
       "       'Homeless_(including_intentionally_homeless)',\n",
       "       'Size_of_social_housing_waiting_list_2021', '2021_Total_Lettings',\n",
       "       'Affordable_Rent(Starts_on_Site)', 'Social_Rent_(Starts_on_Site)',\n",
       "       'Intermediate_Rent_(Starts_on_Site)',\n",
       "       'Affordable_Home_Ownership(Starts_on_Site)',\n",
       "       'Total_Affordable(Starts_on_Site)', 'Affordable_Rent(Completions)',\n",
       "       'Social_Rent(Completions)', 'Intermediate_Rent(Completions)',\n",
       "       'Affordable_Home_Ownership(Completions)',\n",
       "       'Total_Affordable(Completions)', 'Total(Starts_on_Site)',\n",
       "       'Total(Completions)', 'Market(Starts_on_Site)', 'Market(Completions)',\n",
       "       'A_B_property_counts', 'C_D_property_counts', 'E_F_property_counts',\n",
       "       'G_H_property_counts', 'median_houses_2020', 'median_earning_2020',\n",
       "       'ratio_by_medians_2020', 'lower_quatile_houses_2020',\n",
       "       'lower_quatile_earning_2020', 'ratio_by_lower_quatile_2020'],\n",
       "      dtype='object')"
      ]
     },
     "execution_count": 63,
     "metadata": {},
     "output_type": "execute_result"
    }
   ],
   "source": [
    "feature_space.columns"
   ]
  },
  {
   "cell_type": "code",
   "execution_count": 64,
   "id": "e4be9790",
   "metadata": {},
   "outputs": [],
   "source": [
    "# sns.pairplot(data_table)"
   ]
  },
  {
   "cell_type": "code",
   "execution_count": 65,
   "id": "87e45fdc",
   "metadata": {},
   "outputs": [],
   "source": [
    "# SelectKBest(chi2, k=8).fit_transform(feature_space, feature_class)"
   ]
  },
  {
   "cell_type": "code",
   "execution_count": 66,
   "id": "ef1f8fd6",
   "metadata": {},
   "outputs": [],
   "source": [
    "\n",
    "# data_scaled = StandardScaler().fit_transform(data_table.values)\n",
    "# data_scaled_df = pd.DataFrame(data_scaled, index=data_table.index, columns=data_table.columns)\n"
   ]
  },
  {
   "cell_type": "code",
   "execution_count": 84,
   "id": "b963ac2c",
   "metadata": {},
   "outputs": [],
   "source": [
    "X = data_table.iloc[:, data_table.columns != 'Total_owed_a_prevention_or_relief_duty'].astype('float')\n",
    "y = data_table.iloc[:, data_table.columns == 'Total_owed_a_prevention_or_relief_duty'].astype('int')"
   ]
  },
  {
   "cell_type": "code",
   "execution_count": 85,
   "id": "3352e208",
   "metadata": {},
   "outputs": [],
   "source": [
    "X_train, X_test, y_train, y_test = train_test_split(X, y, test_size = 0.20, random_state = 5)"
   ]
  },
  {
   "cell_type": "code",
   "execution_count": 86,
   "id": "5e80d899",
   "metadata": {
    "scrolled": true
   },
   "outputs": [
    {
     "name": "stdout",
     "output_type": "stream",
     "text": [
      "Accuracy: 0.6684870381249521\n"
     ]
    }
   ],
   "source": [
    "xgb_model = XGBRegressor().fit(X_train, y_train)\n",
    "\n",
    "y_pred = xgb_model.predict(X_test)\n",
    "accuracy = r2_score(y_test, y_pred)\n",
    "print(\"Accuracy:\", accuracy)"
   ]
  },
  {
   "cell_type": "code",
   "execution_count": 70,
   "id": "2abd6057",
   "metadata": {},
   "outputs": [
    {
     "name": "stdout",
     "output_type": "stream",
     "text": [
      "[1.7457751e-08 5.8369760e-06 4.9987604e-04 7.3083612e-04 8.9255429e-04\n",
      " 9.7709836e-04 1.7019943e-03 2.2204269e-03 2.3287795e-03 3.0905281e-03\n",
      " 3.1606671e-03 3.3850630e-03 3.7674224e-03 4.6807313e-03 5.7717445e-03\n",
      " 5.8500902e-03 6.4696032e-03 6.5119294e-03 7.3434855e-03 7.5488426e-03\n",
      " 8.3775045e-03 1.2055366e-02 3.5614945e-02 8.8108666e-02 1.1013491e-01\n",
      " 1.2524208e-01 1.4817129e-01 1.8771106e-01 2.1764658e-01]\n"
     ]
    }
   ],
   "source": [
    "thresholds = np.sort(xgb_model.feature_importances_)\n",
    "print(thresholds)"
   ]
  },
  {
   "cell_type": "code",
   "execution_count": 71,
   "id": "15500cf5",
   "metadata": {},
   "outputs": [
    {
     "data": {
      "image/png": "[encoded data removed]",
      "text/plain": [
       "<Figure size 576x576 with 1 Axes>"
      ]
     },
     "metadata": {
      "needs_background": "light"
     },
     "output_type": "display_data"
    }
   ],
   "source": [
    "importances_values = xgb_model.feature_importances_\n",
    "importances = pd.DataFrame(importances_values, columns=[\"importance\"])\n",
    "feature_data = pd.DataFrame(X_train.columns, columns=[\"feature\"])\n",
    "importance = pd.concat([feature_data, importances], axis=1)\n",
    "\n",
    "importance = importance.sort_values([\"importance\"], ascending=True)\n",
    "importance[\"importance\"] = (importance[\"importance\"] * 1000).astype(int)\n",
    "importance = importance.sort_values([\"importance\"])\n",
    "importance.set_index('feature', inplace=True)\n",
    "importance.plot.barh(color='b', rot=0, figsize=(8, 8))\n",
    "plt.legend(loc=\"lower right\")\n",
    "plt.show()"
   ]
  },
  {
   "cell_type": "code",
   "execution_count": null,
   "id": "a05ed77a",
   "metadata": {},
   "outputs": [],
   "source": []
  }
 ],
 "metadata": {
  "kernelspec": {
   "display_name": "Python 3",
   "language": "python",
   "name": "python3"
  },
  "language_info": {
   "codemirror_mode": {
    "name": "ipython",
    "version": 3
   },
   "file_extension": ".py",
   "mimetype": "text/x-python",
   "name": "python",
   "nbconvert_exporter": "python",
   "pygments_lexer": "ipython3",
   "version": "3.8.8"
  }
 },
 "nbformat": 4,
 "nbformat_minor": 5
}
