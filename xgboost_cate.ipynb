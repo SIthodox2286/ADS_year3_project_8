{
 "cells": [
  {
   "cell_type": "code",
   "execution_count": 1,
   "id": "67ab5913",
   "metadata": {},
   "outputs": [],
   "source": [
    "import pandas as pd \n",
    "import numpy as np\n",
    "import matplotlib.pyplot as plt\n",
    "import sklearn as skl\n",
    "from sklearn.model_selection import train_test_split, GridSearchCV\n",
    "from load_data import load_categorical_data\n",
    "#from load_data import load_categorical_more_data\n",
    "from sklearn.ensemble import RandomForestClassifier\n",
    "from sklearn.datasets import make_classification\n",
    "from sklearn.metrics import r2_score, accuracy_score\n",
    "from scipy.stats import ttest_ind as ttest\n",
    "from sklearn.metrics import mean_squared_error\n",
    "from sklearn.preprocessing import StandardScaler\n",
    "\n",
    "from sklearn.feature_selection import SelectKBest, chi2, SelectFromModel\n",
    "import time\n",
    "import seaborn as sns\n",
    "from xgboost import XGBRegressor, plot_tree\n"
   ]
  },
  {
   "cell_type": "code",
   "execution_count": 2,
   "id": "99657220",
   "metadata": {},
   "outputs": [],
   "source": [
    "import openpyxl \n",
    "import os"
   ]
  },
  {
   "cell_type": "code",
   "execution_count": 3,
   "id": "55fcd40b",
   "metadata": {},
   "outputs": [],
   "source": [
    "def MinMaxNormal(df):\n",
    "    normalized_df=(df-df.min())/(df.max()-df.min())\n",
    "    return normalized_df"
   ]
  },
  {
   "cell_type": "code",
   "execution_count": 4,
   "id": "06db6897",
   "metadata": {},
   "outputs": [],
   "source": [
    "def mean_absolute_percentage_error(y_true, y_pred): \n",
    "    y_true=np.array(y_true)\n",
    "    y_pred=np.array(y_pred)\n",
    "    MSPE = (sum((MinMaxNormal(y_true)-MinMaxNormal(y_pred))**2)/(y_pred.size))/(MinMaxNormal(y_true).mean())\n",
    "    MSPE = MSPE*100\n",
    "    return np.abs(MSPE)"
   ]
  },
  {
   "cell_type": "code",
   "execution_count": 5,
   "id": "fb211570",
   "metadata": {},
   "outputs": [],
   "source": [
    "\"\"\"\n",
    "Use Decision Tree to fit the relationship between \n",
    "homeless_real_value and other variables, except \n",
    "no_longer_homeless, prevention_duty, and relief duty.\n",
    "\"\"\"\n",
    "\n",
    "#Read data\n",
    "categorical_data,local_authority_names,total_duty_owed,total_population_in_households,prevention_duty_owed,relief_duty_owed,support_need_homeless,no_longer_homeless,homeless_real_value,categorical_waiting_list_size,social_housing_lettings_2020,band_A_B_properties,band_C_D_properties,band_E_F_properties,band_G_H_properties,median_prices,median_earning_gross,categorical_median_afforability_ratio,lower_quatile_prices,lower_quatile_earning_gross,categorical_lower_quatile_afforability_ratio = load_categorical_data()\n",
    "\n",
    "#affordableRent_start,social_housing_start,intermediate_start,total_affordable_start,affordable_complete,social_complete,intermediate_complete,total_affordable_complete=load_categorical_more_data()"
   ]
  },
  {
   "cell_type": "code",
   "execution_count": 6,
   "id": "b9b93662",
   "metadata": {},
   "outputs": [],
   "source": [
    "data_table=categorical_data.drop(labels='Local',axis=1)\n",
    "data_table=data_table.drop(labels='Local_Authority_code',axis=1)\n",
    "data_table=data_table.drop(labels='Local_Authority_name',axis=1)\n",
    "#data_table=data_table.drop(labels='Homeless_(including_intentionally_homeless)',axis=1)\n",
    "data_table=data_table.drop(labels='Threatened_with_homelessness_within_56_days_Prevention_duty_owed',axis=1)\n",
    "data_table=data_table.drop(labels='Homeless_Relief_duty_owed4',axis=1)\n",
    "data_table=data_table.drop(labels='Total_households_with_support_needs',axis=1)\n",
    "#data_table=data_table.drop(labels='Intermediate_Rent_(Starts_on_Site)',axis=1)\n",
    "#data_table=data_table.drop(labels='Intermediate_Rent(Completions)',axis=1)\n",
    "#data_table=data_table.drop(labels='Affordable_Home_Ownership(Starts_on_Site)',axis=1)\n",
    "#data_table=data_table.drop(labels='Affordable_Home_Ownership(Completions)',axis=1)\n",
    "#data_table=data_table.drop(labels='Market(Starts_on_Site)',axis=1)\n",
    "#data_table=data_table.drop(labels='Market(Completions)',axis=1)\n",
    "#data_table=data_table.drop(labels='C_D_property_counts',axis=1)\n",
    "#data_table=data_table.drop(labels='E_F_property_counts',axis=1)\n",
    "#data_table=data_table.drop(labels='G_H_property_counts',axis=1)\n",
    "#data_table=data_table.drop(labels='median_houses_2020',axis=1)\n",
    "#data_table=data_table.drop(labels='median_earning_2020',axis=1)\n",
    "#data_table=data_table.drop(labels='ratio_by_medians_2020',axis=1)\n",
    "#data_table=data_table.drop(labels='Total_Affordable(Starts_on_Site)',axis=1)\n",
    "#data_table=data_table.drop(labels='Total_Affordable(Completions)',axis=1)\n",
    "#data_table=data_table.drop(labels='Total(Starts_on_Site)',axis=1)\n",
    "#data_table=data_table.drop(labels='Total(Completions)',axis=1)\n",
    "#data_table=data_table.drop(labels='lower_quatile_houses_2020',axis=1)\n",
    "#data_table=data_table.drop(labels='lower_quatile_earning_2020',axis=1)"
   ]
  },
  {
   "cell_type": "code",
   "execution_count": 7,
   "id": "08ba4b68",
   "metadata": {},
   "outputs": [],
   "source": [
    "raw_data = pd.read_excel(r\"./Data/all_in_one_Categorical_imputed.xlsx\")"
   ]
  },
  {
   "cell_type": "code",
   "execution_count": 8,
   "id": "4c21f23b",
   "metadata": {},
   "outputs": [],
   "source": [
    "raw_data = raw_data.drop(columns=['Local_Authority_code', \n",
    "                                  'Local_Authority_name', \n",
    "                                  'Threatened_with_homelessness_within_56_days_Prevention_duty_owed',\n",
    "                                  'Homeless_Relief_duty_owed4',\n",
    "                                  'Total_households_with_support_needs'])"
   ]
  },
  {
   "cell_type": "code",
   "execution_count": 9,
   "id": "bdafc60b",
   "metadata": {},
   "outputs": [
    {
     "data": {
      "text/plain": [
       "Index(['Local', 'Total_owed_a_prevention_or_relief_duty',\n",
       "       'Number_of_households_in_area4(000s)', 'Total_secured_accommodation',\n",
       "       'Homeless_(including_intentionally_homeless)',\n",
       "       'Size_of_social_housing_waiting_list_2020', '2020_Total_Lettings',\n",
       "       'Affordable_Rent(Starts_on_Site)', 'Social_Rent_(Starts_on_Site)',\n",
       "       'Intermediate_Rent_(Starts_on_Site)',\n",
       "       'Affordable_Home_Ownership(Starts_on_Site)',\n",
       "       'Total_Affordable(Starts_on_Site)', 'Affordable_Rent(Completions)',\n",
       "       'Social_Rent(Completions)', 'Intermediate_Rent(Completions)',\n",
       "       'Affordable_Home_Ownership(Completions)',\n",
       "       'Total_Affordable(Completions)', 'Total(Starts_on_Site)',\n",
       "       'Total(Completions)', 'Market(Starts_on_Site)', 'Market(Completions)',\n",
       "       'A_B_property_counts', 'C_D_property_counts', 'E_F_property_counts',\n",
       "       'G_H_property_counts', 'median_houses_2020', 'median_earning_2020',\n",
       "       'ratio_by_medians_2020', 'lower_quatile_houses_2020',\n",
       "       'lower_quatile_earning_2020', 'ratio_by_lower_quatile_2020'],\n",
       "      dtype='object')"
      ]
     },
     "execution_count": 9,
     "metadata": {},
     "output_type": "execute_result"
    }
   ],
   "source": [
    "raw_data.columns"
   ]
  },
  {
   "cell_type": "code",
   "execution_count": 10,
   "id": "73d4b6db",
   "metadata": {},
   "outputs": [],
   "source": [
    "# sns.pairplot(data_table)"
   ]
  },
  {
   "cell_type": "code",
   "execution_count": 11,
   "id": "c7d4b6de",
   "metadata": {},
   "outputs": [],
   "source": [
    "# SelectKBest(chi2, k=8).fit_transform(feature_space, feature_class)"
   ]
  },
  {
   "cell_type": "code",
   "execution_count": 12,
   "id": "484711a2",
   "metadata": {},
   "outputs": [],
   "source": [
    "\n",
    "# data_scaled = StandardScaler().fit_transform(data_table.values)\n",
    "# data_scaled_df = pd.DataFrame(data_scaled, index=data_table.index, columns=data_table.columns)\n"
   ]
  },
  {
   "cell_type": "code",
   "execution_count": 12,
   "id": "62559dfd",
   "metadata": {},
   "outputs": [],
   "source": [
    "X = data_table.iloc[:, data_table.columns != 'Total_owed_a_prevention_or_relief_duty'].astype('float')\n",
    "y = data_table.iloc[:, data_table.columns == 'Total_owed_a_prevention_or_relief_duty'].astype('int')"
   ]
  },
  {
   "cell_type": "code",
   "execution_count": 13,
   "id": "41efc461",
   "metadata": {},
   "outputs": [],
   "source": [
    "X_train, X_test, y_train, y_test = train_test_split(X, y, test_size = 0.20, random_state = 0)"
   ]
  },
  {
   "cell_type": "code",
   "execution_count": 14,
   "id": "e4ae7190",
   "metadata": {
    "scrolled": true
   },
   "outputs": [
    {
     "name": "stdout",
     "output_type": "stream",
     "text": [
      "Accuracy: 0.8008203960611244\n"
     ]
    }
   ],
   "source": [
    "xgb_model = XGBRegressor().fit(X_train, y_train)\n",
    "\n",
    "y_pred = xgb_model.predict(X_test)\n",
    "accuracy = r2_score(y_test, y_pred)\n",
    "print(\"Accuracy:\", accuracy)"
   ]
  },
  {
   "cell_type": "code",
   "execution_count": 16,
   "id": "b610ab05",
   "metadata": {},
   "outputs": [
    {
     "name": "stdout",
     "output_type": "stream",
     "text": [
      "[1.7457751e-08 5.8369760e-06 4.9987604e-04 7.3083612e-04 8.9255429e-04\n",
      " 9.7709836e-04 1.7019943e-03 2.2204269e-03 2.3287795e-03 3.0905281e-03\n",
      " 3.1606671e-03 3.3850630e-03 3.7674224e-03 4.6807313e-03 5.7717445e-03\n",
      " 5.8500902e-03 6.4696032e-03 6.5119294e-03 7.3434855e-03 7.5488426e-03\n",
      " 8.3775045e-03 1.2055366e-02 3.5614945e-02 8.8108666e-02 1.1013491e-01\n",
      " 1.2524208e-01 1.4817129e-01 1.8771106e-01 2.1764658e-01]\n"
     ]
    }
   ],
   "source": [
    "thresholds = np.sort(xgb_model.feature_importances_)\n",
    "print(thresholds)"
   ]
  },
  {
   "cell_type": "code",
   "execution_count": 17,
   "id": "dc440ae6",
   "metadata": {},
   "outputs": [
    {
     "data": {
      "image/png": "[encoded data removed]",
      "text/plain": [
       "<Figure size 576x576 with 1 Axes>"
      ]
     },
     "metadata": {
      "needs_background": "light"
     },
     "output_type": "display_data"
    }
   ],
   "source": [
    "importances_values = xgb_model.feature_importances_\n",
    "importances = pd.DataFrame(importances_values, columns=[\"importance\"])\n",
    "feature_data = pd.DataFrame(X_train.columns, columns=[\"feature\"])\n",
    "importance = pd.concat([feature_data, importances], axis=1)\n",
    "\n",
    "importance = importance.sort_values([\"importance\"], ascending=True)\n",
    "importance[\"importance\"] = (importance[\"importance\"] * 1000).astype(float)\n",
    "importance = importance.sort_values([\"importance\"])\n",
    "importance.set_index('feature', inplace=True)\n",
    "importance.plot.barh(color='b', rot=0, figsize=(8, 8))\n",
    "plt.legend(loc=\"lower right\")\n",
    "plt.show()"
   ]
  },
  {
   "cell_type": "code",
   "execution_count": null,
   "id": "0d8ea764",
   "metadata": {},
   "outputs": [],
   "source": [
    "accuracy_list = []\n",
    "importance = pd.DataFrame(X_train.columns, columns=[\"feature\"])\n",
    "features = pd.DataFrame(X_train.columns, columns=[\"feature\"])\n",
    "\n",
    "for i in range(10):\n",
    "    X_train, X_test, y_train, y_test = train_test_split(X, y, test_size = 0.20, random_state = i)\n",
    "\n",
    "    xgb_model = XGBRegressor().fit(X_train, y_train)\n",
    "\n",
    "    y_pred = xgb_model.predict(X_test)\n",
    "    accuracy = r2_score(y_test, y_pred)\n",
    "    accuracy_list.append(accuracy)\n",
    "\n",
    "    importances_values = xgb_model.feature_importances_\n",
    "    \n",
    "    columns_name = \"importance\" + str(i)\n",
    "    importances = pd.DataFrame(importances_values, columns=[columns_name])\n",
    "    importance = pd.concat([importance, importances], axis=1)\n",
    "\n",
    "\n",
    "    importance = importance.sort_values([columns_name], ascending=True)\n",
    "    importance[columns_name] = (importance[columns_name] * 1000).astype(float)\n",
    "    importance = importance.sort_values([columns_name])\n",
    "    \n",
    "    thisImportance =  pd.concat([features, importances], axis=1)\n",
    "    \n",
    "    thisImportance = thisImportance.sort_values([columns_name], ascending=True)\n",
    "    thisImportance[columns_name] = (thisImportance[columns_name] * 1000).astype(float)\n",
    "    thisImportance = thisImportance.sort_values([columns_name])\n",
    "    \n",
    "    thisImportance.plot.barh(x='feature', y=columns_name, color='b', rot=0, figsize=(8, 8))\n",
    "    plt.legend(loc=\"lower right\")\n",
    "    plt.show()\n"
   ]
  },
  {
   "cell_type": "code",
   "execution_count": null,
   "id": "0ee3dad2",
   "metadata": {},
   "outputs": [],
   "source": [
    "accuracy_list"
   ]
  },
  {
   "cell_type": "code",
   "execution_count": null,
   "id": "e3a34dd6",
   "metadata": {},
   "outputs": [],
   "source": [
    "importance"
   ]
  }
 ],
 "metadata": {
  "kernelspec": {
   "display_name": "Python 3",
   "language": "python",
   "name": "python3"
  },
  "language_info": {
   "codemirror_mode": {
    "name": "ipython",
    "version": 3
   },
   "file_extension": ".py",
   "mimetype": "text/x-python",
   "name": "python",
   "nbconvert_exporter": "python",
   "pygments_lexer": "ipython3",
   "version": "3.8.8"
  }
 },
 "nbformat": 4,
 "nbformat_minor": 5
}
